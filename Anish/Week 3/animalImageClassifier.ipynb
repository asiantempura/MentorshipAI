{
  "nbformat": 4,
  "nbformat_minor": 0,
  "metadata": {
    "colab": {
      "name": "pyTorchIntro.ipynb",
      "provenance": []
    },
    "kernelspec": {
      "name": "python3",
      "display_name": "Python 3"
    },
    "language_info": {
      "name": "python"
    },
    "accelerator": "GPU",
    "gpuClass": "standard"
  },
  "cells": [
    {
      "cell_type": "markdown",
      "source": [
        "[Colab Link](https://colab.research.google.com/drive/1LOxoYJRUh1SijdyMOK9lcDeDPlk3brri?usp=sharing)"
      ],
      "metadata": {
        "id": "-z8ovHCY6c6F"
      }
    },
    {
      "cell_type": "code",
      "execution_count": 24,
      "metadata": {
        "colab": {
          "base_uri": "https://localhost:8080/"
        },
        "id": "uAj0AblKzlpJ",
        "outputId": "5833b075-ba2b-43f0-deb3-58c7bb364eb2"
      },
      "outputs": [
        {
          "output_type": "stream",
          "name": "stdout",
          "text": [
            "Torch version:  1.11.0+cu113\n",
            "Torch CUDA avail?  True\n",
            "Using cuda\n"
          ]
        }
      ],
      "source": [
        "import torch\n",
        "\n",
        "from torch import nn\n",
        "from torch import torch_version\n",
        "from torch.utils.data import DataLoader\n",
        "\n",
        "import torchvision\n",
        "\n",
        "from torchvision.datasets import CIFAR10\n",
        "from torchvision.utils import make_grid\n",
        "from torchvision.transforms import ToTensor, Normalize, Compose\n",
        "\n",
        "import os \n",
        "\n",
        "import matplotlib.pyplot as plt\n",
        "import numpy as np \n",
        "\n",
        "device = 'cuda' if torch.cuda.is_available() else 'cpu'\n",
        "\n",
        "print('Torch version: ', torch.__version__)\n",
        "print('Torch CUDA avail? ', torch.cuda.is_available())\n",
        "print(f'Using {device}')"
      ]
    },
    {
      "cell_type": "code",
      "source": [
        "# Define func to normalize RGB vals of images\n",
        "transform = Compose (\n",
        "    [ToTensor(), \n",
        "    Normalize(\n",
        "        (0.5, 0.5, 0.5), # mean for RGB vals\n",
        "        (0.5, 0.5, 0.5)  # std dev\n",
        "    )]\n",
        ")\n"
      ],
      "metadata": {
        "id": "EsB8ct2A3qvk"
      },
      "execution_count": 2,
      "outputs": []
    },
    {
      "cell_type": "code",
      "source": [
        "# Download and set data\n",
        "\n",
        "trainingData = CIFAR10 (\n",
        "    root = 'cifar', \n",
        "    train = True, \n",
        "    download = True, \n",
        "    transform=transform\n",
        ")\n",
        "\n",
        "testData = CIFAR10(\n",
        "    root = 'cifar', \n",
        "    train = False, \n",
        "    download = True, \n",
        "    transform=transform\n",
        ")\n"
      ],
      "metadata": {
        "colab": {
          "base_uri": "https://localhost:8080/"
        },
        "id": "vWqlIhBg5gwK",
        "outputId": "7209703f-4181-45c4-9cc5-e90f36a32c3a"
      },
      "execution_count": 8,
      "outputs": [
        {
          "output_type": "stream",
          "name": "stdout",
          "text": [
            "Files already downloaded and verified\n",
            "Files already downloaded and verified\n"
          ]
        }
      ]
    },
    {
      "cell_type": "code",
      "source": [
        "batchSize = 4\n",
        "\n",
        "trainingDataLoader = DataLoader(\n",
        "    trainingData, \n",
        "    batch_size=batchSize, \n",
        "    shuffle=True\n",
        ")\n",
        "\n",
        "testDataLoader = DataLoader(\n",
        "    testData, \n",
        "    batch_size=batchSize, \n",
        "    shuffle=True\n",
        ")\n",
        "\n",
        "print(trainingDataLoader.dataset)"
      ],
      "metadata": {
        "colab": {
          "base_uri": "https://localhost:8080/"
        },
        "id": "cIh8af1yYFRz",
        "outputId": "c8ed9496-c16a-4350-9c20-104ca7e5023f"
      },
      "execution_count": 29,
      "outputs": [
        {
          "output_type": "stream",
          "name": "stdout",
          "text": [
            "Dataset CIFAR10\n",
            "    Number of datapoints: 50000\n",
            "    Root location: cifar\n",
            "    Split: Train\n",
            "    StandardTransform\n",
            "Transform: Compose(\n",
            "               ToTensor()\n",
            "               Normalize(mean=(0.5, 0.5, 0.5), std=(0.5, 0.5, 0.5))\n",
            "           )\n"
          ]
        }
      ]
    },
    {
      "cell_type": "code",
      "source": [
        "for x,y in trainingDataLoader:\n",
        "    print(f'Shape of x [N, C, H, W]: {x.shape}')\n",
        "    print(f'Shape of y: {y.shape} {y.dtype}')\n",
        "    break"
      ],
      "metadata": {
        "id": "HYZ8loil5ozV",
        "colab": {
          "base_uri": "https://localhost:8080/"
        },
        "outputId": "cbe6d100-6a83-49b3-d2b4-2adf19dfda57"
      },
      "execution_count": 16,
      "outputs": [
        {
          "output_type": "stream",
          "name": "stdout",
          "text": [
            "Shape of x [N, C, H, W]: torch.Size([4, 3, 32, 32])\n",
            "Shape of y: torch.Size([4]) torch.int64\n"
          ]
        }
      ]
    },
    {
      "cell_type": "code",
      "source": [
        "# Show and examine data, images in this case\n",
        "\n",
        "def showImage(img):\n",
        "    img = img / 2 + 0.05 \n",
        "    npimg = img.numpy()\n",
        "\n",
        "    plt.imshow(np.transpose(npimg, (1, 2, 0)))\n",
        "    plt.show()\n",
        "\n",
        "\n",
        "classes = trainingData.classes \n",
        "classes \n",
        "\n",
        "data = iter(trainingDataLoader)\n",
        "images, labels = data.next() \n",
        "\n",
        "showImage(make_grid(images))\n",
        "\n",
        "print(' '.join(f'{classes[labels[i]]:5s}' for i in range(batchSize)))"
      ],
      "metadata": {
        "colab": {
          "base_uri": "https://localhost:8080/",
          "height": 192
        },
        "id": "jWT6RR4rYc5Q",
        "outputId": "bed828da-f99c-42e9-8f73-6eff84fea318"
      },
      "execution_count": 23,
      "outputs": [
        {
          "output_type": "stream",
          "name": "stderr",
          "text": [
            "Clipping input data to the valid range for imshow with RGB data ([0..1] for floats or [0..255] for integers).\n"
          ]
        },
        {
          "output_type": "display_data",
          "data": {
            "text/plain": [
              "<Figure size 432x288 with 1 Axes>"
            ],
            "image/png": "[encoded data removed]"
          },
          "metadata": {
            "needs_background": "light"
          }
        },
        {
          "output_type": "stream",
          "name": "stdout",
          "text": [
            "ship  horse horse airplane\n"
          ]
        }
      ]
    },
    {
      "cell_type": "code",
      "source": [
        "# All pytorch models inherit from nn.module\n",
        "class NeuralNetwork(nn.Module):\n",
        "\n",
        "    def __init__(self):\n",
        "        super(NeuralNetwork, self).__init__()\n",
        "        \n",
        "        self.flatten = nn.Flatten() # flattens n-dimensional tensor of images into flat array\n",
        "        \n",
        "        # Architecture of model\n",
        "        self.linear_relu_stack = nn.Sequential(\n",
        "            nn.Linear(3 * 32 * 32, 1024), # Take in flattened tensor of 32x32 imgs with 3 RGB vals\n",
        "            nn.ReLU(), \n",
        "            nn.Linear(1024, 512), # Define these values how you like but the output val of last layer is input val of next layer\n",
        "            nn.ReLU(), \n",
        "            nn.Linear(512, 10) # Last ouput layer is 10 because there are 10 classes of images\n",
        "        )\n",
        "\n",
        "    def forward(self, x):\n",
        "        x = self.flatten(x)\n",
        "\n",
        "        return self.linear_relu_stack(x)\n",
        "\n",
        "\n",
        "model = NeuralNetwork().to(device)\n",
        "print(model)"
      ],
      "metadata": {
        "colab": {
          "base_uri": "https://localhost:8080/"
        },
        "id": "tFdH9g-paM2U",
        "outputId": "47e309d6-aa16-43e1-8cf6-6542a0dfa802"
      },
      "execution_count": 25,
      "outputs": [
        {
          "output_type": "execute_result",
          "data": {
            "text/plain": [
              "NeuralNetwork(\n",
              "  (flatten): Flatten(start_dim=1, end_dim=-1)\n",
              "  (linear_relu_stack): Sequential(\n",
              "    (0): Linear(in_features=3072, out_features=1024, bias=True)\n",
              "    (1): ReLU()\n",
              "    (2): Linear(in_features=1024, out_features=512, bias=True)\n",
              "    (3): ReLU()\n",
              "    (4): Linear(in_features=512, out_features=10, bias=True)\n",
              "  )\n",
              ")"
            ]
          },
          "metadata": {},
          "execution_count": 25
        }
      ]
    },
    {
      "cell_type": "code",
      "source": [
        "lossFn = nn.CrossEntropyLoss()\n",
        "optimizer = torch.optim.SGD(model.parameters(), lr=0.001)"
      ],
      "metadata": {
        "id": "y4AZG8fOmbEe"
      },
      "execution_count": 26,
      "outputs": []
    },
    {
      "cell_type": "code",
      "source": [
        "def train(dataLoader, model, lossFn, optimizer):\n",
        "    size = len(dataLoader.dataset)\n",
        "\n",
        "    model.train()\n",
        "\n",
        "    for batch, (x, y) in enumerate(dataLoader):\n",
        "        x, y = x.to(device), y.to(device)\n",
        "\n",
        "        # predict output\n",
        "        pred = model(x)\n",
        "        loss = lossFn(pred, y)\n",
        "\n",
        "        # backprop\n",
        "        optimizer.zero_grad() # set gradient to 0\n",
        "        loss.backward() # computes gradient with loss\n",
        "        optimizer.step() # updates weights \n",
        "\n",
        "        if batch % 1000 == 0:\n",
        "            loss, current = loss.item(), batch * len(x)\n",
        "            print(f'Loss: {loss:>7f}  [{current:>5d}/{size:>5d}]')"
      ],
      "metadata": {
        "id": "h7ywuAHaoZ25"
      },
      "execution_count": 27,
      "outputs": []
    },
    {
      "cell_type": "code",
      "source": [
        "def test(dataLoader, model, lossFn):\n",
        "    size = len(dataLoader.dataset)\n",
        "    numBatches = len(dataLoader)\n",
        "\n",
        "    model.eval()\n",
        "    testLoss, correct = 0, 0 \n",
        "\n",
        "    with torch.no_grad(): # do not calculate gradient since no backprop\n",
        "        for x, y in dataLoader:\n",
        "            x, y = x.to(device), y.to(device)\n",
        "\n",
        "            pred = model(x)\n",
        "\n",
        "            testLoss += lossFn(pred, y).item() \n",
        "            correct += (pred.argmax(1) == y).type(torch.float).sum().item() # If y == 1, classification correct?\n",
        "\n",
        "    testLoss /= numBatches\n",
        "    correct /= size \n",
        "\n",
        "    print(f'--- Test Error ---')\n",
        "    print(f'Accuracy: {(100 * correct):>0.1f}%')\n",
        "    print(f'Avg Loss: {testLoss:>8f}')\n"
      ],
      "metadata": {
        "id": "gkYEwXQqsshu"
      },
      "execution_count": 30,
      "outputs": []
    },
    {
      "cell_type": "code",
      "source": [
        "epochs = 10\n",
        "\n",
        "for i in range(epochs):\n",
        "    print(f'Epoch {i+1}')\n",
        "\n",
        "    train(trainingDataLoader, model, lossFn, optimizer)\n",
        "    test(testDataLoader, model, lossFn)\n",
        "\n",
        "print('Finished!')"
      ],
      "metadata": {
        "colab": {
          "base_uri": "https://localhost:8080/"
        },
        "id": "NyGFf6U1usP2",
        "outputId": "7adca1cd-5768-4bac-ca7c-987ca2b1baed"
      },
      "execution_count": 32,
      "outputs": [
        {
          "output_type": "stream",
          "name": "stdout",
          "text": [
            "Epoch 1\n",
            "Loss: 2.095499  [    0/50000]\n",
            "Loss: 1.535660  [ 4000/50000]\n",
            "Loss: 2.035324  [ 8000/50000]\n",
            "Loss: 2.012169  [12000/50000]\n",
            "Loss: 1.771101  [16000/50000]\n",
            "Loss: 1.466914  [20000/50000]\n",
            "Loss: 1.794274  [24000/50000]\n",
            "Loss: 1.664878  [28000/50000]\n",
            "Loss: 1.089585  [32000/50000]\n",
            "Loss: 1.957077  [36000/50000]\n",
            "Loss: 1.736438  [40000/50000]\n",
            "Loss: 1.594073  [44000/50000]\n",
            "Loss: 2.147726  [48000/50000]\n",
            "--- Test Error ---\n",
            "Accuracy: 43.3%\n",
            "Avg Loss: 1.617047\n",
            "Epoch 2\n",
            "Loss: 0.850429  [    0/50000]\n",
            "Loss: 1.779945  [ 4000/50000]\n",
            "Loss: 1.294135  [ 8000/50000]\n",
            "Loss: 1.336774  [12000/50000]\n",
            "Loss: 1.468032  [16000/50000]\n",
            "Loss: 1.208672  [20000/50000]\n",
            "Loss: 1.901836  [24000/50000]\n",
            "Loss: 1.730106  [28000/50000]\n",
            "Loss: 1.442935  [32000/50000]\n",
            "Loss: 2.623115  [36000/50000]\n",
            "Loss: 1.612845  [40000/50000]\n",
            "Loss: 0.987964  [44000/50000]\n",
            "Loss: 1.330079  [48000/50000]\n",
            "--- Test Error ---\n",
            "Accuracy: 46.6%\n",
            "Avg Loss: 1.524156\n",
            "Epoch 3\n",
            "Loss: 1.314885  [    0/50000]\n",
            "Loss: 1.204953  [ 4000/50000]\n",
            "Loss: 1.030762  [ 8000/50000]\n",
            "Loss: 0.700092  [12000/50000]\n",
            "Loss: 1.455469  [16000/50000]\n",
            "Loss: 1.088063  [20000/50000]\n",
            "Loss: 2.535864  [24000/50000]\n",
            "Loss: 0.922929  [28000/50000]\n",
            "Loss: 2.361106  [32000/50000]\n",
            "Loss: 1.354519  [36000/50000]\n",
            "Loss: 1.290697  [40000/50000]\n",
            "Loss: 2.201146  [44000/50000]\n",
            "Loss: 1.162393  [48000/50000]\n",
            "--- Test Error ---\n",
            "Accuracy: 48.8%\n",
            "Avg Loss: 1.456114\n",
            "Epoch 4\n",
            "Loss: 1.342608  [    0/50000]\n",
            "Loss: 1.614586  [ 4000/50000]\n",
            "Loss: 1.275546  [ 8000/50000]\n",
            "Loss: 0.790661  [12000/50000]\n",
            "Loss: 1.798731  [16000/50000]\n",
            "Loss: 1.063097  [20000/50000]\n",
            "Loss: 1.330866  [24000/50000]\n",
            "Loss: 1.693787  [28000/50000]\n",
            "Loss: 1.900408  [32000/50000]\n",
            "Loss: 2.452445  [36000/50000]\n",
            "Loss: 1.494646  [40000/50000]\n",
            "Loss: 1.152024  [44000/50000]\n",
            "Loss: 0.432300  [48000/50000]\n",
            "--- Test Error ---\n",
            "Accuracy: 50.4%\n",
            "Avg Loss: 1.415214\n",
            "Epoch 5\n",
            "Loss: 1.603120  [    0/50000]\n",
            "Loss: 1.968359  [ 4000/50000]\n",
            "Loss: 0.792821  [ 8000/50000]\n",
            "Loss: 0.962503  [12000/50000]\n",
            "Loss: 1.805368  [16000/50000]\n",
            "Loss: 1.275519  [20000/50000]\n",
            "Loss: 1.297210  [24000/50000]\n",
            "Loss: 0.440163  [28000/50000]\n",
            "Loss: 1.485447  [32000/50000]\n",
            "Loss: 1.527021  [36000/50000]\n",
            "Loss: 1.200336  [40000/50000]\n",
            "Loss: 1.132268  [44000/50000]\n",
            "Loss: 1.134736  [48000/50000]\n",
            "--- Test Error ---\n",
            "Accuracy: 51.9%\n",
            "Avg Loss: 1.369702\n",
            "Epoch 6\n",
            "Loss: 0.719517  [    0/50000]\n",
            "Loss: 1.742937  [ 4000/50000]\n",
            "Loss: 0.978590  [ 8000/50000]\n",
            "Loss: 0.646424  [12000/50000]\n",
            "Loss: 0.868749  [16000/50000]\n",
            "Loss: 1.238915  [20000/50000]\n",
            "Loss: 1.863201  [24000/50000]\n",
            "Loss: 3.557184  [28000/50000]\n",
            "Loss: 0.642950  [32000/50000]\n",
            "Loss: 1.373710  [36000/50000]\n",
            "Loss: 0.917623  [40000/50000]\n",
            "Loss: 2.066355  [44000/50000]\n",
            "Loss: 1.205599  [48000/50000]\n",
            "--- Test Error ---\n",
            "Accuracy: 51.6%\n",
            "Avg Loss: 1.365811\n",
            "Epoch 7\n",
            "Loss: 1.376907  [    0/50000]\n",
            "Loss: 1.830700  [ 4000/50000]\n",
            "Loss: 0.989943  [ 8000/50000]\n",
            "Loss: 1.485270  [12000/50000]\n",
            "Loss: 2.341584  [16000/50000]\n",
            "Loss: 1.829710  [20000/50000]\n",
            "Loss: 0.617829  [24000/50000]\n",
            "Loss: 2.090260  [28000/50000]\n",
            "Loss: 0.579575  [32000/50000]\n",
            "Loss: 1.468506  [36000/50000]\n",
            "Loss: 1.458392  [40000/50000]\n",
            "Loss: 0.329834  [44000/50000]\n",
            "Loss: 1.000567  [48000/50000]\n",
            "--- Test Error ---\n",
            "Accuracy: 52.6%\n",
            "Avg Loss: 1.332221\n",
            "Epoch 8\n",
            "Loss: 0.554869  [    0/50000]\n",
            "Loss: 1.031134  [ 4000/50000]\n",
            "Loss: 0.699812  [ 8000/50000]\n",
            "Loss: 0.773411  [12000/50000]\n",
            "Loss: 1.533836  [16000/50000]\n",
            "Loss: 2.081201  [20000/50000]\n",
            "Loss: 1.057263  [24000/50000]\n",
            "Loss: 1.257712  [28000/50000]\n",
            "Loss: 1.163738  [32000/50000]\n",
            "Loss: 2.173246  [36000/50000]\n",
            "Loss: 1.180090  [40000/50000]\n",
            "Loss: 0.888725  [44000/50000]\n",
            "Loss: 1.643018  [48000/50000]\n",
            "--- Test Error ---\n",
            "Accuracy: 53.2%\n",
            "Avg Loss: 1.322579\n",
            "Epoch 9\n",
            "Loss: 1.540729  [    0/50000]\n",
            "Loss: 0.656316  [ 4000/50000]\n",
            "Loss: 0.931643  [ 8000/50000]\n",
            "Loss: 1.793156  [12000/50000]\n",
            "Loss: 0.785691  [16000/50000]\n",
            "Loss: 0.953363  [20000/50000]\n",
            "Loss: 0.696827  [24000/50000]\n",
            "Loss: 0.618645  [28000/50000]\n",
            "Loss: 0.893927  [32000/50000]\n",
            "Loss: 0.677811  [36000/50000]\n",
            "Loss: 1.196088  [40000/50000]\n",
            "Loss: 1.895162  [44000/50000]\n",
            "Loss: 0.754958  [48000/50000]\n",
            "--- Test Error ---\n",
            "Accuracy: 54.3%\n",
            "Avg Loss: 1.310178\n",
            "Epoch 10\n",
            "Loss: 0.583352  [    0/50000]\n",
            "Loss: 0.276844  [ 4000/50000]\n",
            "Loss: 0.258027  [ 8000/50000]\n",
            "Loss: 0.566009  [12000/50000]\n",
            "Loss: 0.131643  [16000/50000]\n",
            "Loss: 0.706464  [20000/50000]\n",
            "Loss: 1.154670  [24000/50000]\n",
            "Loss: 0.770378  [28000/50000]\n",
            "Loss: 0.531425  [32000/50000]\n",
            "Loss: 1.088016  [36000/50000]\n",
            "Loss: 0.882435  [40000/50000]\n",
            "Loss: 0.920220  [44000/50000]\n",
            "Loss: 1.368795  [48000/50000]\n",
            "--- Test Error ---\n",
            "Accuracy: 54.3%\n",
            "Avg Loss: 1.306358\n",
            "Finished!\n"
          ]
        }
      ]
    },
    {
      "cell_type": "code",
      "source": [
        "torch.save(model.state_dict(), 'cifar_fc.pth')"
      ],
      "metadata": {
        "id": "u_zW7-xiwVnh"
      },
      "execution_count": 33,
      "outputs": []
    },
    {
      "cell_type": "code",
      "source": [
        "model = NeuralNetwork()\n",
        "model.load_state_dict(torch.load('cifar_fc.pth'))"
      ],
      "metadata": {
        "colab": {
          "base_uri": "https://localhost:8080/"
        },
        "id": "gv9oTi6RwcDE",
        "outputId": "ae45c2d1-6dff-407c-e531-454a4c7b86fa"
      },
      "execution_count": 34,
      "outputs": [
        {
          "output_type": "execute_result",
          "data": {
            "text/plain": [
              "<All keys matched successfully>"
            ]
          },
          "metadata": {},
          "execution_count": 34
        }
      ]
    },
    {
      "cell_type": "code",
      "source": [
        "correctPred = {name: 0 for name in classes}\n",
        "totalPred = {name: 0 for name in classes}\n",
        "\n",
        "with torch.no_grad():\n",
        "    for data in testDataLoader:\n",
        "        images, labels = data \n",
        "        outputs = model(images)\n",
        "\n",
        "        _, predictions = torch.max(outputs, 1)\n",
        "\n",
        "        for label, pred in zip(labels, predictions):\n",
        "            if label == pred:\n",
        "                correctPred[classes[label]] += 1 \n",
        "            \n",
        "            totalPred[classes[label]] += 1 \n",
        "\n",
        "for name, correct in correctPred.items():\n",
        "    accuracy = 100 * float(correct) / totalPred[name]\n",
        "    \n",
        "    print(f'Accuracy for {name:10s}: {accuracy:.1f}%')\n"
      ],
      "metadata": {
        "colab": {
          "base_uri": "https://localhost:8080/"
        },
        "id": "OFdbO5Erwhyb",
        "outputId": "2fdd937f-f98b-4c45-a9ee-dd763ff588bf"
      },
      "execution_count": 36,
      "outputs": [
        {
          "output_type": "stream",
          "name": "stdout",
          "text": [
            "Accuracy for airplane  : 61.4%\n",
            "Accuracy for automobile: 57.2%\n",
            "Accuracy for bird      : 38.0%\n",
            "Accuracy for cat       : 33.4%\n",
            "Accuracy for deer      : 41.5%\n",
            "Accuracy for dog       : 45.2%\n",
            "Accuracy for frog      : 66.5%\n",
            "Accuracy for horse     : 65.8%\n",
            "Accuracy for ship      : 69.6%\n",
            "Accuracy for truck     : 64.6%\n"
          ]
        }
      ]
    }
  ]
}