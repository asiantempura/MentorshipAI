{
  "nbformat": 4,
  "nbformat_minor": 0,
  "metadata": {
    "colab": {
      "name": "pyTorchIntro.ipynb",
      "provenance": []
    },
    "kernelspec": {
      "name": "python3",
      "display_name": "Python 3"
    },
    "language_info": {
      "name": "python"
    },
    "accelerator": "GPU",
    "gpuClass": "standard"
  },
  "cells": [
    {
      "cell_type": "code",
      "execution_count": 4,
      "metadata": {
        "colab": {
          "base_uri": "https://localhost:8080/"
        },
        "id": "uAj0AblKzlpJ",
        "outputId": "26e0b731-ba01-4fc1-ec6b-48e20f437606"
      },
      "outputs": [
        {
          "output_type": "stream",
          "name": "stdout",
          "text": [
            "Torch version:  1.11.0+cu113\n",
            "Torch CUDA avail?  True\n"
          ]
        }
      ],
      "source": [
        "import torch\n",
        "\n",
        "from torch import nn\n",
        "from torch import torch_version\n",
        "from torch.utils.data import DataLoader\n",
        "\n",
        "import torchvision\n",
        "\n",
        "from torchvision.datasets import CIFAR10\n",
        "from torchvision.utils import make_grid\n",
        "from torchvision.transforms import ToTensor, Normalize, Compose\n",
        "\n",
        "import os \n",
        "\n",
        "import matplotlib.pyplot as plt\n",
        "import numpy as np \n",
        "\n",
        "\n",
        "print('Torch version: ', torch.__version__)\n",
        "print('Torch CUDA avail? ', torch.cuda.is_available())"
      ]
    },
    {
      "cell_type": "code",
      "source": [
        "# Define func to normalize RGB vals of images\n",
        "transform = Compose (\n",
        "    [ToTensor(), \n",
        "    Normalize(\n",
        "        (0.5, 0.5, 0.5), # mean for RGB vals\n",
        "        (0.5, 0.5, 0.5)  # std dev\n",
        "    )]\n",
        ")\n"
      ],
      "metadata": {
        "id": "EsB8ct2A3qvk"
      },
      "execution_count": 5,
      "outputs": []
    },
    {
      "cell_type": "code",
      "source": [
        "# Download and set data\n",
        "\n",
        "trainingData = CIFAR10 (\n",
        "    root = 'cifar', \n",
        "    train = True, \n",
        "    download = True, \n",
        "    transform=transform\n",
        ")\n",
        "\n",
        "testData = CIFAR10(\n",
        "    root = 'cifar', \n",
        "    train = False, \n",
        "    download = True, \n",
        "    transform=transform\n",
        ")\n"
      ],
      "metadata": {
        "colab": {
          "base_uri": "https://localhost:8080/"
        },
        "id": "vWqlIhBg5gwK",
        "outputId": "79a4bbd8-ecda-4247-c993-edb7f943a1ee"
      },
      "execution_count": 6,
      "outputs": [
        {
          "output_type": "stream",
          "name": "stdout",
          "text": [
            "Files already downloaded and verified\n",
            "Files already downloaded and verified\n"
          ]
        }
      ]
    },
    {
      "cell_type": "code",
      "source": [
        ""
      ],
      "metadata": {
        "id": "HYZ8loil5ozV"
      },
      "execution_count": null,
      "outputs": []
    }
  ]
}